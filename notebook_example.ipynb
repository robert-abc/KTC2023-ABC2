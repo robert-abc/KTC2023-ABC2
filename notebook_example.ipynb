{
  "nbformat": 4,
  "nbformat_minor": 0,
  "metadata": {
    "accelerator": "GPU",
    "colab": {
      "provenance": [],
      "collapsed_sections": [
        "eQwr-j0g3GnA",
        "8v2gfr312-gf",
        "ujW29N-qIikE"
      ]
    },
    "kernelspec": {
      "display_name": "Python 3",
      "name": "python3"
    },
    "language_info": {
      "name": "python"
    }
  },
  "cells": [
    {
      "cell_type": "markdown",
      "metadata": {
        "id": "AQh9qO4h3DRJ"
      },
      "source": [
        "# Cloning the repository"
      ]
    },
    {
      "cell_type": "markdown",
      "metadata": {
        "id": "eQwr-j0g3GnA"
      },
      "source": [
        "## Generate SSH\n",
        "\n",
        "The code of the last cell needs to be added to the github account (settings -> SSH and GPG Keys -> New SSH Key)"
      ]
    },
    {
      "cell_type": "code",
      "metadata": {
        "id": "13YNOnCovltC"
      },
      "source": [
        "!ssh-keygen -t rsa -b 4096"
      ],
      "execution_count": null,
      "outputs": []
    },
    {
      "cell_type": "code",
      "metadata": {
        "id": "GG_8rfZFv-bg"
      },
      "source": [
        "!ssh-keyscan -t rsa github.com >> ~/.ssh/known_hosts"
      ],
      "execution_count": null,
      "outputs": []
    },
    {
      "cell_type": "code",
      "metadata": {
        "id": "2hF2Gh4YwETI"
      },
      "source": [
        "!cat /root/.ssh/id_rsa.pub"
      ],
      "execution_count": null,
      "outputs": []
    },
    {
      "cell_type": "markdown",
      "metadata": {
        "id": "8v2gfr312-gf"
      },
      "source": [
        "## Clone and enter the repository"
      ]
    },
    {
      "cell_type": "code",
      "metadata": {
        "id": "seRVx1Wvsnzd",
        "colab": {
          "base_uri": "https://localhost:8080/"
        },
        "outputId": "d3f0788b-aa79-4c57-ace7-3fa5e2e76276"
      },
      "source": [
        "!git clone git@github.com:robert-abc/KTC2023-ABC2.git --branch main"
      ],
      "execution_count": 4,
      "outputs": [
        {
          "output_type": "stream",
          "name": "stdout",
          "text": [
            "Cloning into 'KTC2023-ABC2'...\n",
            "remote: Enumerating objects: 84, done.\u001b[K\n",
            "remote: Counting objects: 100% (84/84), done.\u001b[K\n",
            "remote: Compressing objects: 100% (77/77), done.\u001b[K\n",
            "remote: Total 84 (delta 28), reused 0 (delta 0), pack-reused 0\u001b[K\n",
            "Receiving objects: 100% (84/84), 989.00 KiB | 3.29 MiB/s, done.\n",
            "Resolving deltas: 100% (28/28), done.\n"
          ]
        }
      ]
    },
    {
      "cell_type": "code",
      "metadata": {
        "colab": {
          "base_uri": "https://localhost:8080/"
        },
        "id": "dEfVVEbWK36A",
        "outputId": "bcaad0bc-9cdb-4e68-a29f-39576a725d22"
      },
      "source": [
        "%cd KTC2023-ABC2"
      ],
      "execution_count": 5,
      "outputs": [
        {
          "output_type": "stream",
          "name": "stdout",
          "text": [
            "/content/KTC2023-ABC2\n"
          ]
        }
      ]
    },
    {
      "cell_type": "markdown",
      "source": [
        "# Install torch metrics"
      ],
      "metadata": {
        "id": "ujW29N-qIikE"
      }
    },
    {
      "cell_type": "code",
      "source": [
        "%%capture\n",
        "!pip install torchmetrics"
      ],
      "metadata": {
        "id": "YkWkriUwIgls"
      },
      "execution_count": 23,
      "outputs": []
    },
    {
      "cell_type": "code",
      "source": [
        "import numpy as np\n",
        "import matplotlib\n",
        "import scipy as sp\n",
        "import torch\n",
        "import PIL\n",
        "import torchmetrics"
      ],
      "metadata": {
        "id": "XQbVZHK7YCz7"
      },
      "execution_count": 24,
      "outputs": []
    },
    {
      "cell_type": "code",
      "source": [
        "torchmetrics.__version__"
      ],
      "metadata": {
        "colab": {
          "base_uri": "https://localhost:8080/",
          "height": 0
        },
        "id": "yvcvB9CKYc4m",
        "outputId": "f47cb53c-657e-4ec5-8419-3e6b0d3dbc79"
      },
      "execution_count": 25,
      "outputs": [
        {
          "output_type": "execute_result",
          "data": {
            "text/plain": [
              "'1.2.0'"
            ],
            "application/vnd.google.colaboratory.intrinsic+json": {
              "type": "string"
            }
          },
          "metadata": {},
          "execution_count": 25
        }
      ]
    },
    {
      "cell_type": "markdown",
      "metadata": {
        "id": "sj_NiOA23v-J"
      },
      "source": [
        "# Generate the results"
      ]
    },
    {
      "cell_type": "code",
      "metadata": {
        "colab": {
          "base_uri": "https://localhost:8080/"
        },
        "id": "-4U8FnwqtNwT",
        "outputId": "7d1768d3-9603-4baf-ab4a-8c25ad17caa9"
      },
      "source": [
        "!python main.py inputs outputs 1"
      ],
      "execution_count": 26,
      "outputs": [
        {
          "output_type": "stream",
          "name": "stdout",
          "text": [
            "4 images were found.\n",
            "/usr/local/lib/python3.10/dist-packages/scipy/sparse/_index.py:100: SparseEfficiencyWarning: Changing the sparsity structure of a csr_matrix is expensive. lil_matrix is more efficient.\n",
            "  self._set_intXint(row, col, x.flat[0])\n"
          ]
        }
      ]
    },
    {
      "cell_type": "markdown",
      "metadata": {
        "id": "RiBW4nvF3tZY"
      },
      "source": [
        "# Visualize the results\n",
        "\n"
      ]
    },
    {
      "cell_type": "code",
      "metadata": {
        "id": "-gZ5_7w2wnUS"
      },
      "source": [
        "import os\n",
        "import re\n",
        "\n",
        "import scipy as sp\n",
        "from PIL import Image\n",
        "import matplotlib.pyplot as plt"
      ],
      "execution_count": 27,
      "outputs": []
    },
    {
      "cell_type": "code",
      "metadata": {
        "id": "YF_S4yHvtk82"
      },
      "source": [
        "gt_name=os.listdir('groundTruths')\n",
        "out_name=os.listdir('outputs')\n",
        "\n",
        "r=re.compile(\".*mat|.*png\")\n",
        "\n",
        "gt_name=list(filter(r.match,gt_name))\n",
        "out_name=list(filter(r.match,out_name))\n",
        "\n",
        "gt_name.sort()\n",
        "out_name.sort()"
      ],
      "execution_count": 28,
      "outputs": []
    },
    {
      "cell_type": "code",
      "metadata": {
        "id": "zmMhYcvNxH2b"
      },
      "source": [
        "img_list=[]\n",
        "\n",
        "for i in range(len(gt_name)):\n",
        "  ground = sp.io.loadmat(os.path.join('groundTruths', gt_name[i]))\n",
        "  ground = ground['truth']\n",
        "  output = Image.open(os.path.join('outputs', out_name[i]))\n",
        "\n",
        "  img_list.append([ground,output])"
      ],
      "execution_count": 29,
      "outputs": []
    },
    {
      "cell_type": "code",
      "metadata": {
        "id": "E6-GnP0gxJro",
        "colab": {
          "base_uri": "https://localhost:8080/",
          "height": 1000
        },
        "outputId": "ac85b7fa-a7ba-40f0-a1b7-54ec31a1fd57"
      },
      "source": [
        "for i in range(4):\n",
        "  plt.figure(figsize=[8,4])\n",
        "  plt.subplot(1,2,1)\n",
        "  plt.imshow(img_list[i][0], cmap='gray', vmin=0, vmax=2)\n",
        "  plt.xticks([])\n",
        "  plt.yticks([])\n",
        "  plt.title(f\"Ground Truth - data {i+1}\")\n",
        "\n",
        "  plt.subplot(1,2,2)\n",
        "  plt.imshow(img_list[i][1], cmap='gray', vmin=0, vmax=255)\n",
        "  plt.xticks([])\n",
        "  plt.yticks([])\n",
        "  plt.title(f\"Output - data {i+1}\")\n",
        "\n",
        "  plt.show()"
      ],
      "execution_count": 30,
      "outputs": [
        {
          "output_type": "display_data",
          "data": {
            "text/plain": [
              "<Figure size 800x400 with 2 Axes>"
            ],
            "image/png": "[encoded data removed]"
          },
          "metadata": {}
        },
        {
          "output_type": "display_data",
          "data": {
            "text/plain": [
              "<Figure size 800x400 with 2 Axes>"
            ],
            "image/png": "[encoded data removed]"
          },
          "metadata": {}
        },
        {
          "output_type": "display_data",
          "data": {
            "text/plain": [
              "<Figure size 800x400 with 2 Axes>"
            ],
            "image/png": "[encoded data removed]"
          },
          "metadata": {}
        },
        {
          "output_type": "display_data",
          "data": {
            "text/plain": [
              "<Figure size 800x400 with 2 Axes>"
            ],
            "image/png": "[encoded data removed]"
          },
          "metadata": {}
        }
      ]
    }
  ]
}